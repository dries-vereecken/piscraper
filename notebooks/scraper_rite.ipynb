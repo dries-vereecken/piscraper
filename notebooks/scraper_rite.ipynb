{
 "cells": [
  {
   "cell_type": "code",
   "execution_count": 3,
   "metadata": {},
   "outputs": [
    {
     "name": "stdout",
     "output_type": "stream",
     "text": [
      "WebDriver initialized successfully\n"
     ]
    }
   ],
   "source": [
    "from selenium import webdriver\n",
    "from selenium.webdriver.chrome.service import Service\n",
    "from selenium.webdriver.chrome.options import Options\n",
    "from webdriver_manager.chrome import ChromeDriverManager\n",
    "from selenium.webdriver.common.by import By\n",
    "from selenium.webdriver.support.ui import WebDriverWait\n",
    "from selenium.webdriver.support import expected_conditions as EC\n",
    "from selenium.common.exceptions import NoSuchElementException, TimeoutException\n",
    "from time import sleep\n",
    "\n",
    "# Set up Chrome options\n",
    "chrome_options = Options()\n",
    "chrome_options.add_argument(\"--headless\")  # Run in headless mode\n",
    "chrome_options.add_argument(\"--window-size=1920,1080\")  # Desktop resolution\n",
    "chrome_options.add_argument(\"--start-maximized\")  # Maximize window\n",
    "chrome_options.add_argument(\"user-agent=Mozilla/5.0 (Windows NT 10.0; Win64; x64) AppleWebKit/537.36 (KHTML, like Gecko) Chrome/120.0.0.0 Safari/537.36\")  # Desktop user agent\n",
    "chrome_options.add_argument('--disable-blink-features=AutomationControlled')  # Hide automation\n",
    "chrome_options.add_experimental_option(\"excludeSwitches\", [\"enable-automation\"])  # Hide automation\n",
    "chrome_options.add_experimental_option('useAutomationExtension', False)  # Hide automation\n",
    "\n",
    "# Initialize the Chrome driver\n",
    "driver = webdriver.Chrome(service=Service(ChromeDriverManager().install()), options=chrome_options)\n",
    "\n",
    "# Mask WebDriver to avoid detection\n",
    "driver.execute_script(\"Object.defineProperty(navigator, 'webdriver', {get: () => undefined})\")\n",
    "\n",
    "url = \"https://rite.trainin.app/widget/schedule?trackingconsent=no\"\n",
    "driver.get(url)\n",
    "print(\"WebDriver initialized successfully\")"
   ]
  },
  {
   "cell_type": "code",
   "execution_count": 4,
   "metadata": {},
   "outputs": [
    {
     "name": "stdout",
     "output_type": "stream",
     "text": [
      "Data has been saved to scraped_data/rite_schedule_20250509_162319.json\n"
     ]
    }
   ],
   "source": [
    "import json\n",
    "import re\n",
    "from datetime import datetime\n",
    "import os\n",
    "\n",
    "try:\n",
    "    # Wait for schedule items and headers to load\n",
    "    wait = WebDriverWait(driver, 10)\n",
    "    all_elements = wait.until(EC.presence_of_all_elements_located((By.CSS_SELECTOR, \"div.ScheduleListGroup_header, div.ScheduleListItem.is-bookable\")))\n",
    "\n",
    "    # Initialize variables\n",
    "    reform_classes = []\n",
    "    current_date = \"\"\n",
    "    today_date = datetime.now().strftime(\"%d/%m/%Y\")\n",
    "\n",
    "    # Process each element\n",
    "    for element in all_elements:\n",
    "        text = element.text.strip()\n",
    "        \n",
    "        # Check if the element is a date header\n",
    "        if element.get_attribute(\"class\").find(\"ScheduleListGroup_header\") != -1:\n",
    "            current_date = text\n",
    "            continue\n",
    "\n",
    "        # Check if the class is a REFORM class\n",
    "        if \"REFORM\" in text:\n",
    "            # Split the text into lines\n",
    "            lines = text.split(\"\\n\")\n",
    "            \n",
    "            # Extract relevant information\n",
    "            if len(lines) >= 6:  # Ensure there are enough lines to parse\n",
    "                time = lines[0]\n",
    "                name = lines[1]\n",
    "                instructor = lines[2]\n",
    "                address = lines[3]\n",
    "                availability = lines[4]\n",
    "\n",
    "                # Convert date format\n",
    "                date = today_date if current_date == \"TODAY\" else current_date\n",
    "                if \"SATURDAY\" in date or \"SUNDAY\" in date or \"MONDAY\" in date or \"TUESDAY\" in date or \"WEDNESDAY\" in date or \"THURSDAY\" in date or \"FRIDAY\" in date:\n",
    "                    # Parse date like \"SATURDAY 10 MAY\"\n",
    "                    date_obj = datetime.strptime(date, \"%A %d %B\")\n",
    "                    # Set year to current year\n",
    "                    date_obj = date_obj.replace(year=datetime.now().year)\n",
    "                    # Format as dd/mm/yyyy\n",
    "                    date = date_obj.strftime(\"%d/%m/%Y\")\n",
    "\n",
    "                # Create class dictionary\n",
    "                class_info = {\n",
    "                    \"name\": name,\n",
    "                    \"date\": date,\n",
    "                    \"hour\": time,\n",
    "                    \"address\": address,\n",
    "                    \"instructor\": instructor,\n",
    "                    \"availability\": availability\n",
    "                }\n",
    "\n",
    "                reform_classes.append(class_info)\n",
    "\n",
    "    # Create scraped_data directory if it doesn't exist\n",
    "    os.makedirs(\"scraped_data\", exist_ok=True)\n",
    "    \n",
    "    # Generate filename with current datetime\n",
    "    current_datetime = datetime.now().strftime(\"%Y%m%d_%H%M%S\")\n",
    "    filename = f\"scraped_data/rite_schedule_{current_datetime}.json\"\n",
    "\n",
    "    # Save to JSON file\n",
    "    with open(filename, \"w\", encoding=\"utf-8\") as f:\n",
    "        json.dump(reform_classes, f, indent=2, ensure_ascii=False)\n",
    "\n",
    "    print(f\"Data has been saved to {filename}\")\n",
    "\n",
    "finally:\n",
    "    # Close the browser\n",
    "    driver.quit()\n"
   ]
  },
  {
   "cell_type": "code",
   "execution_count": null,
   "metadata": {},
   "outputs": [],
   "source": []
  }
 ],
 "metadata": {
  "kernelspec": {
   "display_name": "venv",
   "language": "python",
   "name": "python3"
  },
  "language_info": {
   "codemirror_mode": {
    "name": "ipython",
    "version": 3
   },
   "file_extension": ".py",
   "mimetype": "text/x-python",
   "name": "python",
   "nbconvert_exporter": "python",
   "pygments_lexer": "ipython3",
   "version": "3.10.7"
  }
 },
 "nbformat": 4,
 "nbformat_minor": 2
}
